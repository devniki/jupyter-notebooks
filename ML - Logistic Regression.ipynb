{
 "cells": [
  {
   "cell_type": "markdown",
   "metadata": {},
   "source": [
    "### Logistic Regression\n",
    "\n",
    "Note that, in spite of its name, logistic regression is a model for classification, not regression."
   ]
  },
  {
   "cell_type": "markdown",
   "metadata": {},
   "source": [
    "**Logistic Regression with `penalty` = `l1` and `C` = .1**"
   ]
  },
  {
   "cell_type": "code",
   "execution_count": 1,
   "metadata": {},
   "outputs": [
    {
     "data": {
      "text/plain": [
       "0.81578947368421051"
      ]
     },
     "execution_count": 1,
     "metadata": {},
     "output_type": "execute_result"
    }
   ],
   "source": [
    "from sklearn import datasets\n",
    "iris = datasets.load_iris()\n",
    "\n",
    "from sklearn.model_selection import train_test_split\n",
    "from sklearn.linear_model import LogisticRegression\n",
    "from sklearn.metrics import accuracy_score\n",
    "\n",
    "Xtrain, Xtest, ytrain, ytest = train_test_split(iris.data, iris.target)\n",
    "lr1 = LogisticRegression(penalty = 'l1', C = .1)\n",
    "lr1.fit(Xtrain, ytrain)\n",
    "ypred = lr1.predict(Xtest)\n",
    "accuracy_score(ytest, ypred)"
   ]
  },
  {
   "cell_type": "code",
   "execution_count": 2,
   "metadata": {},
   "outputs": [
    {
     "data": {
      "text/plain": [
       "0.81578947368421051"
      ]
     },
     "execution_count": 2,
     "metadata": {},
     "output_type": "execute_result"
    }
   ],
   "source": [
    "lr1.score(Xtest, ytest)"
   ]
  },
  {
   "cell_type": "code",
   "execution_count": 2,
   "metadata": {},
   "outputs": [
    {
     "data": {
      "text/plain": [
       "array([ 0.,  0.,  0.])"
      ]
     },
     "execution_count": 2,
     "metadata": {},
     "output_type": "execute_result"
    }
   ],
   "source": [
    "lr1.intercept_"
   ]
  },
  {
   "cell_type": "code",
   "execution_count": 3,
   "metadata": {},
   "outputs": [
    {
     "data": {
      "text/plain": [
       "array([[ 0.        ,  0.93828542, -1.17085401,  0.        ],\n",
       "       [ 0.        , -0.31234161,  0.09268742,  0.        ],\n",
       "       [-0.74853367,  0.        ,  0.9493398 ,  0.        ]])"
      ]
     },
     "execution_count": 3,
     "metadata": {},
     "output_type": "execute_result"
    }
   ],
   "source": [
    "lr1.coef_"
   ]
  },
  {
   "cell_type": "markdown",
   "metadata": {},
   "source": [
    "**Logistic Regression with `penalty` = `l2` and `C` = .1**\n"
   ]
  },
  {
   "cell_type": "code",
   "execution_count": 4,
   "metadata": {},
   "outputs": [
    {
     "data": {
      "text/plain": [
       "0.84210526315789469"
      ]
     },
     "execution_count": 4,
     "metadata": {},
     "output_type": "execute_result"
    }
   ],
   "source": [
    "from sklearn import datasets\n",
    "iris = datasets.load_iris()\n",
    "\n",
    "from sklearn.model_selection import train_test_split\n",
    "from sklearn.linear_model import LogisticRegression\n",
    "from sklearn.metrics import accuracy_score\n",
    "\n",
    "Xtrain, Xtest, ytrain, ytest = train_test_split(iris.data, iris.target)\n",
    "lr2 = LogisticRegression(penalty = 'l2', C = .1)\n",
    "lr2.fit(Xtrain, ytrain)\n",
    "ypred = lr2.predict(Xtest)\n",
    "accuracy_score(ytest, ypred)"
   ]
  },
  {
   "cell_type": "code",
   "execution_count": 5,
   "metadata": {},
   "outputs": [
    {
     "data": {
      "text/plain": [
       "array([ 0.13062566,  0.06769358, -0.27300159])"
      ]
     },
     "execution_count": 5,
     "metadata": {},
     "output_type": "execute_result"
    }
   ],
   "source": [
    "lr2.intercept_"
   ]
  },
  {
   "cell_type": "code",
   "execution_count": 6,
   "metadata": {},
   "outputs": [
    {
     "data": {
      "text/plain": [
       "array([[ 0.1952657 ,  0.66523963, -1.12052191, -0.50421597],\n",
       "       [-0.04227413, -0.44130401,  0.25612114, -0.14430885],\n",
       "       [-0.51132025, -0.56195856,  0.83954009,  0.63925853]])"
      ]
     },
     "execution_count": 6,
     "metadata": {},
     "output_type": "execute_result"
    }
   ],
   "source": [
    "lr2.coef_"
   ]
  },
  {
   "cell_type": "markdown",
   "metadata": {},
   "source": [
    "Since we fit the `Logistic Regression` object on a multiclass dataset, it uses the **One-vs-Rest (OvR)** approach by default where the first intercept belongs to the model that fits class 1 vs class 2 and 3; the second value is the intercept of the model that fits class 2 vs class 1 and 3 and so on.\n",
    "\n",
    "The weight array that we accessed via the `lr.coef_` attribute contains three rows of weight coefficients, one weight vector for each class. Each row consists of 4 weights where each weight is multiplied by the respective feature in the 4 dimensional Iris dataset to calculate the net input:\n",
    "\n",
    "z = $w_1x_1+w_2x_2+....+w_mx_m = \\sum_{j=0}^m x_jw_j = w^Tx$\n",
    "\n",
    "We also notice that for `l1`, the weight vectors are sparse, which means that they only have a few non-zero entries. As a result of L1 regularization, which serves as a method for feature selection, \n",
    "we can train a model that is robust to the potentially irrelvant features in this dataset.\n",
    "\n",
    "**As we can see, all features weights will be zero if we penalize the model with a strong regularization parameter (`C` < .1); `C` is the inverse of the regularization parameter $\\lambda$.**\n",
    "\n",
    "**One vs All (OvR): -**\n",
    "\n",
    "This is a technique used to extend a binary classifier to multi-class problems. Using OvA, we can train one classifier per class, where the particular class is treated as the positive class and the smaples from all other classes are considered as the negative class. If we were to classify a new data sample, we would use our n classifiers, where n is the number of class labels, and assign the class label with the highest confidence to the particular sample. In the case of the perceptron, we would use OvA to choose the class label that is associated with the largest absolute net input value. "
   ]
  },
  {
   "cell_type": "code",
   "execution_count": 7,
   "metadata": {},
   "outputs": [
    {
     "data": {
      "image/png": "[encoded data removed]",
      "text/plain": [
       "<matplotlib.figure.Figure at 0x664cb50>"
      ]
     },
     "metadata": {},
     "output_type": "display_data"
    }
   ],
   "source": [
    "%matplotlib inline\n",
    "import numpy as np\n",
    "import matplotlib.pyplot as plt\n",
    "fig = plt.figure()\n",
    "ax = plt.axes()\n",
    "colors = ['red','blue','green','yellow']\n",
    "weights, params = [],[]\n",
    "for c in [.00001,.0001,.001,.01,.1,1,10,100]:\n",
    "    lr = LogisticRegression(penalty = 'l1', C = c)\n",
    "    lr.fit(Xtrain, ytrain)\n",
    "    weights.append(lr.coef_[1])\n",
    "    params.append(c)\n",
    "weights = np.array(weights)    \n",
    "for column, color in zip(range(weights.shape[1]), colors):\n",
    "    ax.plot(params, weights[:,column], label = iris.target, color = color)\n",
    "\n",
    "ax.set_ylabel('weight coefficeint')\n",
    "ax.set_xlabel('C')\n",
    "ax.axhline(0, color = 'black', linestyle = '--')    \n",
    "ax.set_xscale('log') "
   ]
  },
  {
   "cell_type": "markdown",
   "metadata": {},
   "source": [
    "\n",
    "We defined that \n",
    "\n",
    "$$z = w_1x_1+w_2x_2+....+w_mx_m = \\sum_{j=0}^m x_jw_j = w^Tx$$\n",
    "\n",
    "For simplicity, we can rewrite above equation by bring $\\theta$ to left hand side and define a weight-zero as -$\\theta$ and $x_0$ as 1. We get - \n",
    "\n",
    "In case of logistic regression, let us say that the probability of 'positive event' is $p$. We can now define the **odds ratio** $\\frac{p}{1-p}$. Also, we define a **logit function** -\n",
    "\n",
    "$$ logit(p) = log\\frac{p}{1-p}$$\n",
    "\n",
    "Now what we are actually interested in is predicting the probability that a certain sample belongs to a particular class, which is the inverse form of the logit function. It is also called the logistic function, sometimes simply abbreviated as sigmoid function due to its characteristic S-shape. Also, we'll take this logistic function as our activation function $\\phi(z)$.\n",
    "\n",
    "$$\\phi(z) = \\frac{1}{1+e^{-z}}$$\n",
    "\n",
    "Note that, in some literature, $\\phi(z)$ is also written as $h_\\theta(x)$ and is called **hypothesis function**.\n",
    "\n",
    "Plot for this sigmoid function will look like below: -\n",
    "\n",
    "![](images/sigmoid.png)\n",
    "\n",
    "This sigmoid function (hypothesis function) represents at the same time the estimated probability that y = 1 on input x parameterized by w:\n",
    "\n",
    "$$\\phi(z) = P( y =1| x;w) = 1 - P( y =0| x;w)$$\n",
    "\n",
    "The output of the sigmoid function is then interpreted as the probability of particular sample belonging to class 1, $\\phi(z) = P( y =1| x;w)$ , given its features x parameterized by the weights w. For example, if we compute $\\phi(z)$ = 0.8 for a particular flower sample, it means that the chance that this sample is an Iris-Versicolor flower is 80 percent.\n",
    "\n",
    "The predicted probability can then simply be converted into a binary outcome via a quantizer (unit step function):\n",
    "\n",
    "\n",
    "$$ \\hat{y} = \n",
    "\\begin{pmatrix}\n",
    "1 & if \\phi(z) \\geq .5 \\\\\n",
    "0 & otherwise\n",
    "\\end{pmatrix}\n",
    "\\quad\n",
    "$$\n",
    "\n",
    "### Cost function for Logistic Regression\n",
    "\n",
    "Although a possible definition of the cost function could be the mean of the Euclidean distance between the activation function $\\phi(z)$ and the actual value y among all the *m* samples in the training set, as long as the activation function is formed with the sigmoid function, this definition **would result in a non-convex cost function**, which means that a local minimum could be easily found before global minimum. In order to ensure the cost function is convex (and therefore ensure convergence to the global minimum), **the cost function is transformed using the logarithm of the sigmoid function**.\n",
    "\n",
    "For logistic regression, the Cost function is defined as - \n",
    "\n",
    "$$ Cost(\\phi(z),y) = \n",
    "\\begin{pmatrix}\n",
    "-log(\\phi(z)) & if y = 1 \\\\\n",
    "-log(1-(\\phi(z))) & if y =  0\n",
    "\\end{pmatrix}\n",
    "\\quad\n",
    "$$\n",
    "\n",
    "which can be written as - \n",
    "\n",
    "$$ Cost(\\phi(z),y) = (y-1)log(1-\\phi(z))-ylog\\phi(z)$$\n",
    "\n",
    "This way the optimization objective function can be defined as the mean of the cost/errors in the training set:\n",
    "\n",
    "$$J(w) = \\frac{1}{m}\\sum_{i=1}^m(Cost(\\phi(z)^i,y^i))$$\n",
    "\n",
    "Also, an intuition about how logistic regression works can be get by looking at following illustration - \n",
    "\n",
    "![](images/logistic.png)\n",
    "\n",
    "Compare this illustration of logistic regression to that of perceptron (shown below) where $\\phi(z) = z$. \n",
    "\n",
    "![](images/perceptron.png)\n"
   ]
  },
  {
   "cell_type": "code",
   "execution_count": null,
   "metadata": {
    "collapsed": true
   },
   "outputs": [],
   "source": []
  }
 ],
 "metadata": {
  "kernelspec": {
   "display_name": "Python 3",
   "language": "python",
   "name": "python3"
  },
  "language_info": {
   "codemirror_mode": {
    "name": "ipython",
    "version": 3
   },
   "file_extension": ".py",
   "mimetype": "text/x-python",
   "name": "python",
   "nbconvert_exporter": "python",
   "pygments_lexer": "ipython3",
   "version": "3.6.3"
  }
 },
 "nbformat": 4,
 "nbformat_minor": 2
}
