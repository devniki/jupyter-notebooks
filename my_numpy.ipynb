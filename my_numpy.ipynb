{
 "cells": [
  {
   "cell_type": "markdown",
   "metadata": {},
   "source": [
    "# Numpy"
   ]
  },
  {
   "cell_type": "code",
   "execution_count": 2,
   "metadata": {},
   "outputs": [
    {
     "name": "stdout",
     "output_type": "stream",
     "text": [
      "[1 None 'a']\n",
      "[  1.  nan   2.]\n"
     ]
    }
   ],
   "source": [
    "import numpy as np\n",
    "l = [1, None, 'a']\n",
    "b = np.array(l)\n",
    "print(b)\n",
    "m = [1, np.nan, 2] #1 and 2 will be converted to float as Nan is a special float value\n",
    "c = np.array(m)\n",
    "print(c)"
   ]
  },
  {
   "cell_type": "markdown",
   "metadata": {},
   "source": [
    "### `NaN`-safe functions"
   ]
  },
  {
   "cell_type": "code",
   "execution_count": 104,
   "metadata": {},
   "outputs": [
    {
     "name": "stdout",
     "output_type": "stream",
     "text": [
      "6 nan 4.0\n"
     ]
    }
   ],
   "source": [
    "# difference between np.sum and np.nansum\n",
    "l1 = [1,2,3]\n",
    "l2 = [1, np.nan, 3]\n",
    "l3 = [1, None, 3]\n",
    "\n",
    "s1 = np.sum(l1) #No issue\n",
    "s2 = np.sum(l2) # Output will be nan, rather than 4.\n",
    "#s3 = np.sum(l3) #will throw error as None is not the same type of 1.\n",
    "s4 = np.nansum(l2) # nan will be ignored and other values will be added\n",
    "print(s1,s2,s4)"
   ]
  },
  {
   "cell_type": "markdown",
   "metadata": {},
   "source": [
    "### Unique Values\n"
   ]
  },
  {
   "cell_type": "code",
   "execution_count": 2,
   "metadata": {},
   "outputs": [
    {
     "data": {
      "text/plain": [
       "array([1, 2, 3, 5, 6, 7, 8])"
      ]
     },
     "execution_count": 2,
     "metadata": {},
     "output_type": "execute_result"
    }
   ],
   "source": [
    "import numpy as np\n",
    "np.unique([1,3,2,3,5,8,7,6,7])"
   ]
  },
  {
   "cell_type": "markdown",
   "metadata": {},
   "source": [
    "### `astype`"
   ]
  },
  {
   "cell_type": "code",
   "execution_count": 17,
   "metadata": {},
   "outputs": [
    {
     "data": {
      "text/plain": [
       "array([[1, 2],\n",
       "       [3, 4]])"
      ]
     },
     "execution_count": 17,
     "metadata": {},
     "output_type": "execute_result"
    }
   ],
   "source": [
    "a = np.array([[1,2],[3,4]])\n",
    "a"
   ]
  },
  {
   "cell_type": "code",
   "execution_count": 18,
   "metadata": {},
   "outputs": [
    {
     "name": "stdout",
     "output_type": "stream",
     "text": [
      "[[ 1.  2.]\n",
      " [ 3.  4.]]\n",
      "[[1 2]\n",
      " [3 4]]\n"
     ]
    }
   ],
   "source": [
    "print(a.astype('float')),print(a.astype('object'));"
   ]
  },
  {
   "cell_type": "markdown",
   "metadata": {},
   "source": [
    "### Converting back to list"
   ]
  },
  {
   "cell_type": "code",
   "execution_count": 19,
   "metadata": {},
   "outputs": [
    {
     "data": {
      "text/plain": [
       "[[1, 2], [3, 4]]"
      ]
     },
     "execution_count": 19,
     "metadata": {},
     "output_type": "execute_result"
    }
   ],
   "source": [
    "a.tolist()"
   ]
  },
  {
   "cell_type": "markdown",
   "metadata": {},
   "source": [
    "#### Note\n",
    "\n",
    "Lists passed to Numpy should have same number of elements. Otherwise you'll get 1-D array with `object` dtype:"
   ]
  },
  {
   "cell_type": "code",
   "execution_count": 16,
   "metadata": {},
   "outputs": [
    {
     "data": {
      "text/plain": [
       "(array([list([1, 2, 3]), list([4, 5])], dtype=object), (2,))"
      ]
     },
     "execution_count": 16,
     "metadata": {},
     "output_type": "execute_result"
    }
   ],
   "source": [
    "a = np.array([[1,2,3],[4,5]])\n",
    "a, a.shape"
   ]
  },
  {
   "cell_type": "markdown",
   "metadata": {},
   "source": [
    "### Array Ravel"
   ]
  },
  {
   "cell_type": "code",
   "execution_count": 28,
   "metadata": {},
   "outputs": [
    {
     "name": "stdout",
     "output_type": "stream",
     "text": [
      "[[[1 2]\n",
      "  [3 4]]\n",
      "\n",
      " [[5 6]\n",
      "  [7 8]]]\n",
      "[1 2 3 4 5 6 7 8]\n"
     ]
    }
   ],
   "source": [
    "l = [[[1,2],[3,4]],[[5,6],[7,8]]]\n",
    "m = np.array(l)\n",
    "print(m)\n",
    "print(m.ravel()) #ravel() is used for flattening of array"
   ]
  },
  {
   "cell_type": "markdown",
   "metadata": {},
   "source": [
    "### Array Flattening"
   ]
  },
  {
   "cell_type": "markdown",
   "metadata": {},
   "source": [
    "**flatten vs ravel:** The difference between ravel and flatten is, the new array created using ravel is actually a reference to the parent array. So, any changes to the new array will affect the parent as well. But is memory efficient since it does not create a copy."
   ]
  },
  {
   "cell_type": "code",
   "execution_count": 32,
   "metadata": {},
   "outputs": [
    {
     "data": {
      "text/plain": [
       "array([1, 2, 3, 4, 5, 6, 7, 8])"
      ]
     },
     "execution_count": 32,
     "metadata": {},
     "output_type": "execute_result"
    }
   ],
   "source": [
    "a = m.flatten()\n",
    "a"
   ]
  },
  {
   "cell_type": "code",
   "execution_count": 26,
   "metadata": {},
   "outputs": [
    {
     "name": "stdout",
     "output_type": "stream",
     "text": [
      "[[1 5]\n",
      " [2 6]\n",
      " [3 7]]\n",
      "[1 2 3]\n",
      "[5 6 7]\n"
     ]
    }
   ],
   "source": [
    "ar_list = [[1,5],[2,6],[3,7]]\n",
    "ar = np.array(ar_list)\n",
    "print(ar),\n",
    "print(ar[:,0]), # first column\n",
    "print(ar[:,1])  # second column "
   ]
  },
  {
   "cell_type": "code",
   "execution_count": 3,
   "metadata": {},
   "outputs": [
    {
     "name": "stdout",
     "output_type": "stream",
     "text": [
      "[[ 0  1  2]\n",
      " [ 3  4  5]\n",
      " [ 6  7  8]\n",
      " [ 9 10 11]\n",
      " [12 13 14]]\n"
     ]
    },
    {
     "data": {
      "text/plain": [
       "(None,)"
      ]
     },
     "execution_count": 3,
     "metadata": {},
     "output_type": "execute_result"
    }
   ],
   "source": [
    "x = np.arange(15).reshape(5,3)\n",
    "y = np.arange(15).reshape(5,-1) #notice '-1' argument. This makes up for the needed argument value. \n",
    "print(x), "
   ]
  },
  {
   "cell_type": "markdown",
   "metadata": {},
   "source": [
    "### Splitting"
   ]
  },
  {
   "cell_type": "code",
   "execution_count": 12,
   "metadata": {},
   "outputs": [
    {
     "data": {
      "text/plain": [
       "[array([[ 0],\n",
       "        [ 3],\n",
       "        [ 6],\n",
       "        [ 9],\n",
       "        [12]]), array([[ 1],\n",
       "        [ 4],\n",
       "        [ 7],\n",
       "        [10],\n",
       "        [13]]), array([[ 2],\n",
       "        [ 5],\n",
       "        [ 8],\n",
       "        [11],\n",
       "        [14]])]"
      ]
     },
     "execution_count": 12,
     "metadata": {},
     "output_type": "execute_result"
    }
   ],
   "source": [
    "np.split(x,3,1) #3 since we have 3 columns, 1 means axis = 1"
   ]
  },
  {
   "cell_type": "markdown",
   "metadata": {},
   "source": [
    "### Adding New Axis"
   ]
  },
  {
   "cell_type": "code",
   "execution_count": 25,
   "metadata": {},
   "outputs": [
    {
     "name": "stdout",
     "output_type": "stream",
     "text": [
      "b is: \n",
      " [1 2 3]\n",
      "c is: \n",
      " [[1]\n",
      " [2]\n",
      " [3]]\n",
      "d is: \n",
      " [[1 2 3]]\n"
     ]
    }
   ],
   "source": [
    "a = [1,2,3]\n",
    "b = np.array(a)\n",
    "c = b[:, np.newaxis] #add new axis. 3x1 array\n",
    "d = b[np.newaxis, :] #add new axis. 1x3 array\n",
    "print(\"b is: \\n\",b)\n",
    "print(\"c is: \\n\",c)\n",
    "print(\"d is: \\n\",d)"
   ]
  },
  {
   "cell_type": "code",
   "execution_count": 24,
   "metadata": {},
   "outputs": [
    {
     "data": {
      "text/plain": [
       "((3, 1), (1, 3))"
      ]
     },
     "execution_count": 24,
     "metadata": {},
     "output_type": "execute_result"
    }
   ],
   "source": [
    "c.shape, d.shape\n"
   ]
  },
  {
   "cell_type": "markdown",
   "metadata": {},
   "source": [
    "#### Using `None` to create new axis"
   ]
  },
  {
   "cell_type": "code",
   "execution_count": 20,
   "metadata": {},
   "outputs": [
    {
     "data": {
      "text/plain": [
       "array([1, 2, 3])"
      ]
     },
     "execution_count": 20,
     "metadata": {},
     "output_type": "execute_result"
    }
   ],
   "source": [
    "arr = np.array([1, 2, 3])\n",
    "arr"
   ]
  },
  {
   "cell_type": "code",
   "execution_count": 21,
   "metadata": {},
   "outputs": [
    {
     "data": {
      "text/plain": [
       "array([[1, 2, 3]])"
      ]
     },
     "execution_count": 21,
     "metadata": {},
     "output_type": "execute_result"
    }
   ],
   "source": [
    "arr[None]"
   ]
  },
  {
   "cell_type": "markdown",
   "metadata": {},
   "source": [
    "### Creating `array` with `n` elements from an interval "
   ]
  },
  {
   "cell_type": "markdown",
   "metadata": {},
   "source": [
    "But you can't always predict the step value."
   ]
  },
  {
   "cell_type": "code",
   "execution_count": 27,
   "metadata": {},
   "outputs": [
    {
     "data": {
      "text/plain": [
       "array([  1.        ,   1.81818182,   2.63636364,   3.45454545,\n",
       "         4.27272727,   5.09090909,   5.90909091,   6.72727273,\n",
       "         7.54545455,   8.36363636,   9.18181818,  10.        ])"
      ]
     },
     "execution_count": 27,
     "metadata": {},
     "output_type": "execute_result"
    }
   ],
   "source": [
    "np.linspace(1,10,12) #1-d array of 12 values from range[1,10]"
   ]
  },
  {
   "cell_type": "markdown",
   "metadata": {},
   "source": [
    "### Creating `array` with given `step` value from an interval"
   ]
  },
  {
   "cell_type": "markdown",
   "metadata": {},
   "source": [
    "But you can't be sure of number of elements. "
   ]
  },
  {
   "cell_type": "code",
   "execution_count": 28,
   "metadata": {},
   "outputs": [
    {
     "data": {
      "text/plain": [
       "array([1, 2, 3, 4, 5, 6, 7, 8, 9])"
      ]
     },
     "execution_count": 28,
     "metadata": {},
     "output_type": "execute_result"
    }
   ],
   "source": [
    "np.arange(1,10) #1-d array from range [1,10)"
   ]
  },
  {
   "cell_type": "code",
   "execution_count": 30,
   "metadata": {},
   "outputs": [
    {
     "data": {
      "text/plain": [
       "array([1, 3, 5, 7, 9])"
      ]
     },
     "execution_count": 30,
     "metadata": {},
     "output_type": "execute_result"
    }
   ],
   "source": [
    "np.arange(1,10,2) #third argument is 'step'"
   ]
  },
  {
   "cell_type": "code",
   "execution_count": 31,
   "metadata": {},
   "outputs": [
    {
     "data": {
      "text/plain": [
       "array([[1, 2, 3],\n",
       "       [4, 5, 6],\n",
       "       [7, 8, 9]])"
      ]
     },
     "execution_count": 31,
     "metadata": {},
     "output_type": "execute_result"
    }
   ],
   "source": [
    "np.arange(1,10).reshape(3,3)"
   ]
  },
  {
   "cell_type": "markdown",
   "metadata": {},
   "source": [
    "### Meshgrid"
   ]
  },
  {
   "cell_type": "code",
   "execution_count": 37,
   "metadata": {},
   "outputs": [
    {
     "data": {
      "text/plain": [
       "[array([[0, 1, 2, 3, 4],\n",
       "        [0, 1, 2, 3, 4],\n",
       "        [0, 1, 2, 3, 4],\n",
       "        [0, 1, 2, 3, 4],\n",
       "        [0, 1, 2, 3, 4]]), array([[5, 5, 5, 5, 5],\n",
       "        [6, 6, 6, 6, 6],\n",
       "        [7, 7, 7, 7, 7],\n",
       "        [8, 8, 8, 8, 8],\n",
       "        [9, 9, 9, 9, 9]])]"
      ]
     },
     "execution_count": 37,
     "metadata": {},
     "output_type": "execute_result"
    }
   ],
   "source": [
    "a = np.array(range(5))\n",
    "b = np.array(range(5,10))\n",
    "c = np.meshgrid(a,b)\n",
    "c"
   ]
  },
  {
   "cell_type": "markdown",
   "metadata": {},
   "source": [
    "### Random number generation "
   ]
  },
  {
   "cell_type": "code",
   "execution_count": 50,
   "metadata": {},
   "outputs": [
    {
     "data": {
      "text/plain": [
       "array([[ 0.88498126,  0.23814213],\n",
       "       [ 0.93397572,  0.1716707 ],\n",
       "       [ 0.01055526,  0.42006187]])"
      ]
     },
     "execution_count": 50,
     "metadata": {},
     "output_type": "execute_result"
    }
   ],
   "source": [
    "np.random.rand(3,2) #random float values from range[0,1) in shape (3,2)"
   ]
  },
  {
   "cell_type": "code",
   "execution_count": 45,
   "metadata": {},
   "outputs": [
    {
     "data": {
      "text/plain": [
       "array([[ 0.85436986,  0.0492796 ],\n",
       "       [ 0.15420237,  0.99444624],\n",
       "       [ 0.84483877,  0.10184657]])"
      ]
     },
     "execution_count": 45,
     "metadata": {},
     "output_type": "execute_result"
    }
   ],
   "source": [
    "np.random.random((3,2)) #random values from range[0,1) in shape (3,2). Notice that shape is passed as tuple.\n",
    "\n",
    "#np.random.random_sample is exactly the same as above"
   ]
  },
  {
   "cell_type": "code",
   "execution_count": 49,
   "metadata": {},
   "outputs": [
    {
     "data": {
      "text/plain": [
       "array([[2, 2, 3],\n",
       "       [4, 2, 1],\n",
       "       [4, 4, 4],\n",
       "       [4, 4, 2]])"
      ]
     },
     "execution_count": 49,
     "metadata": {},
     "output_type": "execute_result"
    }
   ],
   "source": [
    "np.random.randint(1,5,size=(4,3)) #random integer from range[1,5)"
   ]
  },
  {
   "cell_type": "code",
   "execution_count": 6,
   "metadata": {},
   "outputs": [
    {
     "data": {
      "text/plain": [
       "array([[ 0.81245812, -0.32047813,  0.30542903],\n",
       "       [-1.08882931, -0.40054489,  2.26649748]])"
      ]
     },
     "execution_count": 6,
     "metadata": {},
     "output_type": "execute_result"
    }
   ],
   "source": [
    "import numpy as np\n",
    "np.random.randn(2,3) #values from standard normal distribution with mean = 0 and varianvce  =  1"
   ]
  },
  {
   "cell_type": "code",
   "execution_count": 57,
   "metadata": {},
   "outputs": [
    {
     "name": "stdout",
     "output_type": "stream",
     "text": [
      "[3 4]\n",
      "[1 3]\n",
      "[3 1]\n",
      "[0 4]\n",
      "[4 0]\n",
      "[2 2]\n",
      "[2 1]\n",
      "[4 0]\n",
      "[4 2]\n",
      "[0 3]\n"
     ]
    }
   ],
   "source": [
    "for i in range(10):\n",
    "    print(np.random.choice(5,2)) \n",
    "\n",
    "#first argument for boundary value(exclusive), second argument for number of values to be drawn.\n",
    "#additional parameter p can also be included for probability distribution.\n"
   ]
  },
  {
   "cell_type": "code",
   "execution_count": 63,
   "metadata": {},
   "outputs": [
    {
     "name": "stdout",
     "output_type": "stream",
     "text": [
      "[0 1 2 3 4 5 6 7 8 9]\n",
      "[1 5 9 0 4 2 7 8 3 6]\n"
     ]
    }
   ],
   "source": [
    "arr = np.arange(10)\n",
    "print(arr)\n",
    "np.random.shuffle(arr)\n",
    "print(arr)"
   ]
  },
  {
   "cell_type": "code",
   "execution_count": 69,
   "metadata": {},
   "outputs": [
    {
     "name": "stdout",
     "output_type": "stream",
     "text": [
      "4\n",
      "[4 6 2 2 4 3 5 4 1 2]\n"
     ]
    }
   ],
   "source": [
    "a = np.random.binomial(10,.5)\n",
    "print(a)\n",
    "#10 trials, with probability of success of 0.5 of each trial, single test (omitted here). \n",
    "#O/p a is the number of successful instances.\n",
    "b = np.random.binomial(9,.4,10)\n",
    "#single test consists of 9 trials. 10 such tests are conducted. \n",
    "print(b)"
   ]
  },
  {
   "cell_type": "code",
   "execution_count": 23,
   "metadata": {},
   "outputs": [
    {
     "name": "stdout",
     "output_type": "stream",
     "text": [
      "[   2.    0.    5.    2.    2.    7.   12.   16.   13.   29.   28.   58.\n",
      "   68.   97.  150.  206.  264.  319.  426.  579.  702.  807.  870.  891.\n",
      "  816.  730.  694.  579.  465.  317.  239.  182.  137.   89.   52.   46.\n",
      "   28.   26.   14.    9.   10.    5.    4.    1.    1.    1.    0.    1.\n",
      "    0.    1.]\n",
      "[  1.55743961   1.91746545   2.27749129   2.63751714   2.99754298\n",
      "   3.35756883   3.71759467   4.07762051   4.43764636   4.7976722\n",
      "   5.15769804   5.51772389   5.87774973   6.23777557   6.59780142\n",
      "   6.95782726   7.31785311   7.67787895   8.03790479   8.39793064\n",
      "   8.75795648   9.11798232   9.47800817   9.83803401  10.19805986\n",
      "  10.5580857   10.91811154  11.27813739  11.63816323  11.99818907\n",
      "  12.35821492  12.71824076  13.0782666   13.43829245  13.79831829\n",
      "  14.15834414  14.51836998  14.87839582  15.23842167  15.59844751\n",
      "  15.95847335  16.3184992   16.67852504  17.03855088  17.39857673\n",
      "  17.75860257  18.11862842  18.47865426  18.8386801   19.19870595\n",
      "  19.55873179]\n",
      "<a list of 50 Patch objects>\n"
     ]
    },
    {
     "data": {
      "image/png": "[encoded data removed]",
      "text/plain": [
       "<matplotlib.figure.Figure at 0x3b64850>"
      ]
     },
     "metadata": {},
     "output_type": "display_data"
    }
   ],
   "source": [
    "%matplotlib inline\n",
    "import matplotlib.pyplot as plt\n",
    "s = np.random.logistic(10,1,10000)\n",
    "plt.hist(s, bins = 50)\n",
    "count, bins, ignored = plt.hist(s, bins =50)\n",
    "print(count), print(bins), print(ignored);"
   ]
  },
  {
   "cell_type": "code",
   "execution_count": 20,
   "metadata": {},
   "outputs": [
    {
     "name": "stdout",
     "output_type": "stream",
     "text": [
      "[8 6 0 5 3 4 9 1 7 2]\n",
      "[3 7 1 4 8]\n",
      "[[0 1]\n",
      " [8 9]\n",
      " [2 3]\n",
      " [6 7]\n",
      " [4 5]]\n"
     ]
    }
   ],
   "source": [
    "a = np.random.permutation(10)\n",
    "b = np.random.permutation([1,4,3,8,7])\n",
    "c = np.arange(10).reshape(5,2)\n",
    "d = np.random.permutation(c) #If `x` is a multi-dimensional array, it is only shuffled along its first index.\n",
    "print(a)\n",
    "print(b)\n",
    "print(d)"
   ]
  },
  {
   "cell_type": "code",
   "execution_count": 24,
   "metadata": {},
   "outputs": [
    {
     "data": {
      "text/plain": [
       "array([3, 7, 1, 4, 8])"
      ]
     },
     "execution_count": 24,
     "metadata": {},
     "output_type": "execute_result"
    }
   ],
   "source": [
    "b"
   ]
  },
  {
   "cell_type": "code",
   "execution_count": 25,
   "metadata": {},
   "outputs": [
    {
     "data": {
      "text/plain": [
       "array([3, 7, 1])"
      ]
     },
     "execution_count": 25,
     "metadata": {},
     "output_type": "execute_result"
    }
   ],
   "source": [
    "b[:-2]"
   ]
  },
  {
   "cell_type": "code",
   "execution_count": 26,
   "metadata": {},
   "outputs": [
    {
     "data": {
      "text/plain": [
       "array([4, 8])"
      ]
     },
     "execution_count": 26,
     "metadata": {},
     "output_type": "execute_result"
    }
   ],
   "source": [
    "b[-2:]"
   ]
  },
  {
   "cell_type": "code",
   "execution_count": null,
   "metadata": {
    "collapsed": true
   },
   "outputs": [],
   "source": []
  }
 ],
 "metadata": {
  "kernelspec": {
   "display_name": "Python 3",
   "language": "python",
   "name": "python3"
  },
  "language_info": {
   "codemirror_mode": {
    "name": "ipython",
    "version": 3
   },
   "file_extension": ".py",
   "mimetype": "text/x-python",
   "name": "python",
   "nbconvert_exporter": "python",
   "pygments_lexer": "ipython3",
   "version": "3.6.3"
  }
 },
 "nbformat": 4,
 "nbformat_minor": 2
}
